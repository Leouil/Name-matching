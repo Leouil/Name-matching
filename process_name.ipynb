{
 "cells": [
  {
   "cell_type": "code",
   "execution_count": 56,
   "metadata": {},
   "outputs": [],
   "source": [
    "import pandas as pd\n",
    "import re\n",
    "from collections import *\n",
    "pd.options.mode.chained_assignment = None  # default='warn'"
   ]
  },
  {
   "cell_type": "code",
   "execution_count": 11,
   "metadata": {},
   "outputs": [],
   "source": [
    "uspto_ = pd.read_csv('names.csv')"
   ]
  },
  {
   "cell_type": "code",
   "execution_count": 19,
   "metadata": {},
   "outputs": [],
   "source": [
    "uspto_ = uspto_.name.drop_duplicates().reset_index()"
   ]
  },
  {
   "cell_type": "code",
   "execution_count": 110,
   "metadata": {},
   "outputs": [],
   "source": [
    "uspto_.to_csv('uspto.csv',index=False)"
   ]
  },
  {
   "cell_type": "code",
   "execution_count": 114,
   "metadata": {},
   "outputs": [],
   "source": [
    "from fuzzywuzzy import fuzz"
   ]
  },
  {
   "cell_type": "code",
   "execution_count": 115,
   "metadata": {},
   "outputs": [
    {
     "data": {
      "text/plain": [
       "57"
      ]
     },
     "execution_count": 115,
     "metadata": {},
     "output_type": "execute_result"
    }
   ],
   "source": [
    "fuzz.token_set_ratio('a intl', 'a international')"
   ]
  },
  {
   "cell_type": "code",
   "execution_count": 111,
   "metadata": {},
   "outputs": [],
   "source": [
    "funda = pd.read_csv('../funda50-17.csv',low_memory=False,usecols=['gvkey','cik','conm'])"
   ]
  },
  {
   "cell_type": "code",
   "execution_count": 107,
   "metadata": {},
   "outputs": [],
   "source": [
    "cik = pd.read_csv('coname.csv')\n",
    "cik.columns=['cik','date','name','fiscal','industry','indcode']\n",
    "cik = cik[['cik','name']]\n",
    "cik_name = cik.drop_duplicates(subset='name')\n",
    "cik_name['name'] = cik_name.name.str.replace('/.{2,3}/{0,1}','').str.strip('/').str.strip()\n",
    "comp_name = funda[['gvkey','cik','conm']].drop_duplicates()\n",
    "comp_name['conm'] = comp_name.conm.str.replace('-CL [A-D]','').str.replace('-old','',re.I).str.strip()\n",
    "allnames = comp_name.merge(cik_name,on='cik',how='left')\n",
    "allnames['name'] = allnames['name'].fillna(allnames.conm)\n",
    "allnames = allnames.drop_duplicates(subset='name')\n",
    "allnames= allnames[['gvkey','name']]\n",
    "allnames.to_csv('base_name.csv',index=False)"
   ]
  },
  {
   "cell_type": "code",
   "execution_count": 89,
   "metadata": {},
   "outputs": [],
   "source": [
    "name_set = dict()\n",
    "for gvkey, name in allnames.values:\n",
    "    x = re.split('\\s+',name)\n",
    "    if gvkey in name_set:\n",
    "        for x in name:\n",
    "            name_set[gvkey].add(x.lower())\n",
    "    else:\n",
    "        name_set[gvkey] = set([x.lower() for x in x])\n",
    "\n",
    "word_list = []\n",
    "for v in name_set.values():\n",
    "    word_list.extend(list(v))\n",
    "\n",
    "ct = Counter(word_list)\n",
    "\n",
    "unique_word = [word for word,n in ct.most_common() if n==1]   "
   ]
  },
  {
   "cell_type": "code",
   "execution_count": 4,
   "metadata": {},
   "outputs": [],
   "source": [
    "coname__ = pd.read_csv('__coname__.csv',names=['id','name','gvkey','comp_name','type'])"
   ]
  },
  {
   "cell_type": "code",
   "execution_count": 5,
   "metadata": {},
   "outputs": [],
   "source": [
    "uspto_merged = uspto_.merge(coname__,on='name',how='left')"
   ]
  },
  {
   "cell_type": "code",
   "execution_count": 35,
   "metadata": {
    "scrolled": true
   },
   "outputs": [],
   "source": [
    "uspto_merged.to_csv('uspto_merged.csv',index=False)"
   ]
  }
 ],
 "metadata": {
  "kernelspec": {
   "display_name": "Python 3",
   "language": "python",
   "name": "python3"
  },
  "language_info": {
   "codemirror_mode": {
    "name": "ipython",
    "version": 3
   },
   "file_extension": ".py",
   "mimetype": "text/x-python",
   "name": "python",
   "nbconvert_exporter": "python",
   "pygments_lexer": "ipython3",
   "version": "3.6.4"
  }
 },
 "nbformat": 4,
 "nbformat_minor": 2
}
